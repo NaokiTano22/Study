{
  "nbformat": 4,
  "nbformat_minor": 0,
  "metadata": {
    "colab": {
      "provenance": [],
      "authorship_tag": "ABX9TyPmmzjtzBEdTSdTGzxYpX1s",
      "include_colab_link": true
    },
    "kernelspec": {
      "name": "python3",
      "display_name": "Python 3"
    },
    "language_info": {
      "name": "python"
    }
  },
  "cells": [
    {
      "cell_type": "markdown",
      "metadata": {
        "id": "view-in-github",
        "colab_type": "text"
      },
      "source": [
        "<a href=\"https://colab.research.google.com/github/NaokiTano22/Sutdy/blob/main/webscrayping_oreilly.ipynb\" target=\"_parent\"><img src=\"https://colab.research.google.com/assets/colab-badge.svg\" alt=\"Open In Colab\"/></a>"
      ]
    },
    {
      "cell_type": "code",
      "execution_count": 29,
      "metadata": {
        "id": "7jttaU0hZiuO"
      },
      "outputs": [],
      "source": [
        "from urllib.request import urlopen\n",
        "from urllib.error import HTTPError\n",
        "from urllib.error import URLError\n",
        "\n",
        "from bs4 import BeautifulSoup"
      ]
    },
    {
      "cell_type": "code",
      "source": [
        "html = urlopen(\"http://www.pythonscraping.com/pages/page1.html\")\n",
        "bsObj = BeautifulSoup(html.read())\n",
        "print(bsObj.h1)"
      ],
      "metadata": {
        "colab": {
          "base_uri": "https://localhost:8080/"
        },
        "id": "lKW8CL9CcB4Q",
        "outputId": "cede88ef-f4d2-45c4-b6b7-d978ab4d907d"
      },
      "execution_count": 30,
      "outputs": [
        {
          "output_type": "stream",
          "name": "stdout",
          "text": [
            "<h1>An Interesting Title</h1>\n"
          ]
        }
      ]
    },
    {
      "cell_type": "markdown",
      "source": [
        "URLに関するエラー対策"
      ],
      "metadata": {
        "id": "Soew02hlimVb"
      }
    },
    {
      "cell_type": "code",
      "source": [
        "try:\n",
        "  html = urlopen(\"https://pythonscrapingthisurldoesnotexist.com\")\n",
        "except HTTPError as e:\n",
        "  print(e)\n",
        "except URLError as e:\n",
        "  print(e)\n",
        "else:\n",
        "  print(\"It worked!\")"
      ],
      "metadata": {
        "colab": {
          "base_uri": "https://localhost:8080/"
        },
        "id": "uEGT_RKvckm_",
        "outputId": "6d564450-8630-429b-8571-7538d7b0bc6e"
      },
      "execution_count": 31,
      "outputs": [
        {
          "output_type": "stream",
          "name": "stdout",
          "text": [
            "<urlopen error [Errno -2] Name or service not known>\n"
          ]
        }
      ]
    },
    {
      "cell_type": "markdown",
      "source": [
        "存在しないタグを参照したときのエラー対策"
      ],
      "metadata": {
        "id": "nKnj_X3CjFph"
      }
    },
    {
      "cell_type": "code",
      "source": [
        "try:\n",
        "  badContent = bsObj.nonExistingTag.anotherTag\n",
        "except AttributeError as e:\n",
        "  print(\"Tag was not found\")\n",
        "else:\n",
        "  if badContent == None:\n",
        "    print(\"Tag was not found\")\n",
        "  else:\n",
        "    print(badContent)"
      ],
      "metadata": {
        "colab": {
          "base_uri": "https://localhost:8080/"
        },
        "id": "iF4AgjdghMw1",
        "outputId": "b3b9767a-a694-4ad8-ac24-4d09964b4aae"
      },
      "execution_count": 32,
      "outputs": [
        {
          "output_type": "stream",
          "name": "stdout",
          "text": [
            "Tag was not found\n"
          ]
        },
        {
          "output_type": "stream",
          "name": "stderr",
          "text": [
            "<ipython-input-32-7b5c0c9f4671>:2: DeprecationWarning: .nonExistingTag is deprecated, use .find(\"nonExisting\") instead. If you really were looking for a tag called nonExistingTag, use .find(\"nonExistingTag\")\n",
            "  badContent = bsObj.nonExistingTag.anotherTag\n"
          ]
        }
      ]
    },
    {
      "cell_type": "markdown",
      "source": [
        "エラー対策も含めたタイトルを取得するコードの例"
      ],
      "metadata": {
        "id": "4AxnIfcXk16k"
      }
    },
    {
      "cell_type": "code",
      "source": [
        "def getTitle(url):\n",
        "  try:\n",
        "    html = urlopen(url)\n",
        "  except HTTPError as e:\n",
        "    print(e)\n",
        "    return None\n",
        "  try:\n",
        "    bsObj = BeautifulSoup(html.read())\n",
        "    title = bsObj.body.h1\n",
        "  except AttributeError as e:\n",
        "    return None\n",
        "  return title\n"
      ],
      "metadata": {
        "id": "tTcAK3h4hR1O"
      },
      "execution_count": 33,
      "outputs": []
    },
    {
      "cell_type": "code",
      "source": [
        "title = getTitle(\"http://www.pythonscraping.com/pages/page1.html\")"
      ],
      "metadata": {
        "id": "wXC6C2RBh5Nq"
      },
      "execution_count": 34,
      "outputs": []
    },
    {
      "cell_type": "markdown",
      "source": [
        "findAllの使用例"
      ],
      "metadata": {
        "id": "4fI9Gloh2B3v"
      }
    },
    {
      "cell_type": "code",
      "source": [
        "html = urlopen(\"http://www.pythonscraping.com/pages/warandpeace.html\")\n",
        "bsObj = BeautifulSoup(html)\n",
        "\n",
        "nameList = bsObj.findAll(\"span\", {\"class\":\"green\"})\n",
        "nameList[0]"
      ],
      "metadata": {
        "colab": {
          "base_uri": "https://localhost:8080/"
        },
        "id": "YMFoNIKOlqdZ",
        "outputId": "54364d49-14db-4754-ed87-698c65c2e191"
      },
      "execution_count": 37,
      "outputs": [
        {
          "output_type": "execute_result",
          "data": {
            "text/plain": [
              "<span class=\"green\">Anna\n",
              "Pavlovna Scherer</span>"
            ]
          },
          "metadata": {},
          "execution_count": 37
        }
      ]
    },
    {
      "cell_type": "markdown",
      "source": [
        "childrenの使用例（一個下のレベルのタグを取得、descendantsは下にあるすべてのタグを取得\n",
        "）"
      ],
      "metadata": {
        "id": "C8s1kzei2DlY"
      }
    },
    {
      "cell_type": "code",
      "source": [
        "html = urlopen(\"http://www.pythonscraping.com/pages/page3.html\")\n",
        "bsObj = BeautifulSoup(html)\n",
        "childs = []\n",
        "\n",
        "for child in bsObj.find(\"table\", {\"id\":\"giftList\"}).children:\n",
        "  childs.append(child)\n",
        "childs[3]"
      ],
      "metadata": {
        "colab": {
          "base_uri": "https://localhost:8080/"
        },
        "id": "7Pw3vhIeyorO",
        "outputId": "2b0e5ad3-b8f2-4fa5-8396-d96692d2a411"
      },
      "execution_count": 45,
      "outputs": [
        {
          "output_type": "execute_result",
          "data": {
            "text/plain": [
              "<tr class=\"gift\" id=\"gift1\"><td>\n",
              "Vegetable Basket\n",
              "</td><td>\n",
              "This vegetable basket is the perfect gift for your health conscious (or overweight) friends!\n",
              "<span class=\"excitingNote\">Now with super-colorful bell peppers!</span>\n",
              "</td><td>\n",
              "$15.00\n",
              "</td><td>\n",
              "<img src=\"../img/gifts/img1.jpg\"/>\n",
              "</td></tr>"
            ]
          },
          "metadata": {},
          "execution_count": 45
        }
      ]
    },
    {
      "cell_type": "markdown",
      "source": [
        "同じ階層のタグを取得するnext_siblingsの使用例。\n",
        "似たものとして他にprevious_siblings, next_sibling, previous_siblingなどがある。なお、他に親のタグを呼び出す関数も存在する。（.parent)"
      ],
      "metadata": {
        "id": "KFkZO4Ur3re8"
      }
    },
    {
      "cell_type": "code",
      "source": [
        "sibs = []\n",
        "for sibling in bsObj.find(\"table\",{\"id\":\"giftList\"}).tr.next_siblings:\n",
        "  sibs.append(sibling)\n",
        "sibs[1]"
      ],
      "metadata": {
        "colab": {
          "base_uri": "https://localhost:8080/"
        },
        "id": "I7kFBe2E1tNL",
        "outputId": "0fad6f60-5732-4aa8-e0be-2869af7e016c"
      },
      "execution_count": 47,
      "outputs": [
        {
          "output_type": "execute_result",
          "data": {
            "text/plain": [
              "<tr class=\"gift\" id=\"gift1\"><td>\n",
              "Vegetable Basket\n",
              "</td><td>\n",
              "This vegetable basket is the perfect gift for your health conscious (or overweight) friends!\n",
              "<span class=\"excitingNote\">Now with super-colorful bell peppers!</span>\n",
              "</td><td>\n",
              "$15.00\n",
              "</td><td>\n",
              "<img src=\"../img/gifts/img1.jpg\"/>\n",
              "</td></tr>"
            ]
          },
          "metadata": {},
          "execution_count": 47
        }
      ]
    },
    {
      "cell_type": "code",
      "source": [],
      "metadata": {
        "id": "ac42spTz2kSw"
      },
      "execution_count": null,
      "outputs": []
    }
  ]
}