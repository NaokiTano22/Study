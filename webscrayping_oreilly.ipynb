{
  "nbformat": 4,
  "nbformat_minor": 0,
  "metadata": {
    "colab": {
      "provenance": [],
      "authorship_tag": "ABX9TyPYo86kXvEDTFbVRGQWm3fO",
      "include_colab_link": true
    },
    "kernelspec": {
      "name": "python3",
      "display_name": "Python 3"
    },
    "language_info": {
      "name": "python"
    }
  },
  "cells": [
    {
      "cell_type": "markdown",
      "metadata": {
        "id": "view-in-github",
        "colab_type": "text"
      },
      "source": [
        "<a href=\"https://colab.research.google.com/github/NaokiTano22/Study/blob/main/webscrayping_oreilly.ipynb\" target=\"_parent\"><img src=\"https://colab.research.google.com/assets/colab-badge.svg\" alt=\"Open In Colab\"/></a>"
      ]
    },
    {
      "cell_type": "code",
      "execution_count": 15,
      "metadata": {
        "id": "7jttaU0hZiuO"
      },
      "outputs": [],
      "source": [
        "from urllib.request import urlopen\n",
        "from urllib.error import HTTPError\n",
        "from urllib.error import URLError\n",
        "\n",
        "from bs4 import BeautifulSoup\n",
        "\n",
        "import re\n",
        "import csv"
      ]
    },
    {
      "cell_type": "code",
      "source": [
        "html = urlopen(\"http://www.pythonscraping.com/pages/page1.html\")\n",
        "bsObj = BeautifulSoup(html.read())\n",
        "print(bsObj.h1)"
      ],
      "metadata": {
        "colab": {
          "base_uri": "https://localhost:8080/"
        },
        "id": "lKW8CL9CcB4Q",
        "outputId": "84ee02f7-a639-4770-8815-11c1a134c406"
      },
      "execution_count": 2,
      "outputs": [
        {
          "output_type": "stream",
          "name": "stdout",
          "text": [
            "<h1>An Interesting Title</h1>\n"
          ]
        }
      ]
    },
    {
      "cell_type": "markdown",
      "source": [
        "URLに関するエラー対策"
      ],
      "metadata": {
        "id": "Soew02hlimVb"
      }
    },
    {
      "cell_type": "code",
      "source": [
        "try:\n",
        "  html = urlopen(\"https://pythonscrapingthisurldoesnotexist.com\")\n",
        "except HTTPError as e:\n",
        "  print(e)\n",
        "except URLError as e:\n",
        "  print(e)\n",
        "else:\n",
        "  print(\"It worked!\")"
      ],
      "metadata": {
        "colab": {
          "base_uri": "https://localhost:8080/"
        },
        "id": "uEGT_RKvckm_",
        "outputId": "c7319f67-567b-414b-d37e-c9d8faad7403"
      },
      "execution_count": 3,
      "outputs": [
        {
          "output_type": "stream",
          "name": "stdout",
          "text": [
            "<urlopen error [Errno -2] Name or service not known>\n"
          ]
        }
      ]
    },
    {
      "cell_type": "markdown",
      "source": [
        "存在しないタグを参照したときのエラー対策"
      ],
      "metadata": {
        "id": "nKnj_X3CjFph"
      }
    },
    {
      "cell_type": "code",
      "source": [
        "try:\n",
        "  badContent = bsObj.nonExistingTag.anotherTag\n",
        "except AttributeError as e:\n",
        "  print(\"Tag was not found\")\n",
        "else:\n",
        "  if badContent == None:\n",
        "    print(\"Tag was not found\")\n",
        "  else:\n",
        "    print(badContent)"
      ],
      "metadata": {
        "colab": {
          "base_uri": "https://localhost:8080/"
        },
        "id": "iF4AgjdghMw1",
        "outputId": "b305801c-5132-4a52-f5b3-42a351285208"
      },
      "execution_count": 4,
      "outputs": [
        {
          "output_type": "stream",
          "name": "stdout",
          "text": [
            "Tag was not found\n"
          ]
        },
        {
          "output_type": "stream",
          "name": "stderr",
          "text": [
            "<ipython-input-4-7b5c0c9f4671>:2: DeprecationWarning: .nonExistingTag is deprecated, use .find(\"nonExisting\") instead. If you really were looking for a tag called nonExistingTag, use .find(\"nonExistingTag\")\n",
            "  badContent = bsObj.nonExistingTag.anotherTag\n"
          ]
        }
      ]
    },
    {
      "cell_type": "markdown",
      "source": [
        "エラー対策も含めたタイトルを取得するコードの例"
      ],
      "metadata": {
        "id": "4AxnIfcXk16k"
      }
    },
    {
      "cell_type": "code",
      "source": [
        "def getTitle(url):\n",
        "  try:\n",
        "    html = urlopen(url)\n",
        "  except HTTPError as e:\n",
        "    print(e)\n",
        "    return None\n",
        "  try:\n",
        "    bsObj = BeautifulSoup(html.read())\n",
        "    title = bsObj.body.h1\n",
        "  except AttributeError as e:\n",
        "    return None\n",
        "  return title\n"
      ],
      "metadata": {
        "id": "tTcAK3h4hR1O"
      },
      "execution_count": 5,
      "outputs": []
    },
    {
      "cell_type": "code",
      "source": [
        "title = getTitle(\"http://www.pythonscraping.com/pages/page1.html\")"
      ],
      "metadata": {
        "id": "wXC6C2RBh5Nq"
      },
      "execution_count": 6,
      "outputs": []
    },
    {
      "cell_type": "markdown",
      "source": [
        "findAllの使用例"
      ],
      "metadata": {
        "id": "4fI9Gloh2B3v"
      }
    },
    {
      "cell_type": "code",
      "source": [
        "html = urlopen(\"http://www.pythonscraping.com/pages/warandpeace.html\")\n",
        "bsObj = BeautifulSoup(html)\n",
        "\n",
        "nameList = bsObj.findAll(\"span\", {\"class\":\"green\"})\n",
        "nameList[0]"
      ],
      "metadata": {
        "colab": {
          "base_uri": "https://localhost:8080/"
        },
        "id": "YMFoNIKOlqdZ",
        "outputId": "70d9b66c-e79d-4607-e05d-d30b87d33952"
      },
      "execution_count": 7,
      "outputs": [
        {
          "output_type": "execute_result",
          "data": {
            "text/plain": [
              "<span class=\"green\">Anna\n",
              "Pavlovna Scherer</span>"
            ]
          },
          "metadata": {},
          "execution_count": 7
        }
      ]
    },
    {
      "cell_type": "markdown",
      "source": [
        "childrenの使用例（一個下のレベルのタグを取得、descendantsは下にあるすべてのタグを取得\n",
        "）"
      ],
      "metadata": {
        "id": "C8s1kzei2DlY"
      }
    },
    {
      "cell_type": "code",
      "source": [
        "html = urlopen(\"http://www.pythonscraping.com/pages/page3.html\")\n",
        "bsObj = BeautifulSoup(html)\n",
        "childs = []\n",
        "\n",
        "for child in bsObj.find(\"table\", {\"id\":\"giftList\"}).children:\n",
        "  childs.append(child)\n",
        "childs[3]"
      ],
      "metadata": {
        "colab": {
          "base_uri": "https://localhost:8080/"
        },
        "id": "7Pw3vhIeyorO",
        "outputId": "65a33c6c-65c7-4a0a-c2a5-c235d9960cbe"
      },
      "execution_count": 8,
      "outputs": [
        {
          "output_type": "execute_result",
          "data": {
            "text/plain": [
              "<tr class=\"gift\" id=\"gift1\"><td>\n",
              "Vegetable Basket\n",
              "</td><td>\n",
              "This vegetable basket is the perfect gift for your health conscious (or overweight) friends!\n",
              "<span class=\"excitingNote\">Now with super-colorful bell peppers!</span>\n",
              "</td><td>\n",
              "$15.00\n",
              "</td><td>\n",
              "<img src=\"../img/gifts/img1.jpg\"/>\n",
              "</td></tr>"
            ]
          },
          "metadata": {},
          "execution_count": 8
        }
      ]
    },
    {
      "cell_type": "markdown",
      "source": [
        "同じ階層のタグを取得するnext_siblingsの使用例。\n",
        "似たものとして他にprevious_siblings, next_sibling, previous_siblingなどがある。なお、他に親のタグを呼び出す関数も存在する。（.parent)"
      ],
      "metadata": {
        "id": "KFkZO4Ur3re8"
      }
    },
    {
      "cell_type": "code",
      "source": [
        "sibs = []\n",
        "for sibling in bsObj.find(\"table\",{\"id\":\"giftList\"}).tr.next_siblings:\n",
        "  sibs.append(sibling)\n",
        "sibs[1]"
      ],
      "metadata": {
        "colab": {
          "base_uri": "https://localhost:8080/"
        },
        "id": "I7kFBe2E1tNL",
        "outputId": "f9bb7cc8-0b11-481e-eda7-45b1afc5893b"
      },
      "execution_count": 9,
      "outputs": [
        {
          "output_type": "execute_result",
          "data": {
            "text/plain": [
              "<tr class=\"gift\" id=\"gift1\"><td>\n",
              "Vegetable Basket\n",
              "</td><td>\n",
              "This vegetable basket is the perfect gift for your health conscious (or overweight) friends!\n",
              "<span class=\"excitingNote\">Now with super-colorful bell peppers!</span>\n",
              "</td><td>\n",
              "$15.00\n",
              "</td><td>\n",
              "<img src=\"../img/gifts/img1.jpg\"/>\n",
              "</td></tr>"
            ]
          },
          "metadata": {},
          "execution_count": 9
        }
      ]
    },
    {
      "cell_type": "markdown",
      "source": [
        "正規表現を利用した必要な情報の抽出\n",
        "例では\"../img/gifts/img*.jpg\"を取り出している（*)は任意の文字"
      ],
      "metadata": {
        "id": "VHzmMcIRuZnL"
      }
    },
    {
      "cell_type": "code",
      "source": [
        "images = bsObj.findAll(\"img\", {\"src\": re.compile(\"\\.\\.\\/img\\/gifts/img.*\\.jpg\")})\n",
        "for image in images:\n",
        "  print(image[\"src\"])"
      ],
      "metadata": {
        "colab": {
          "base_uri": "https://localhost:8080/"
        },
        "id": "ac42spTz2kSw",
        "outputId": "0bb861fb-39f3-440b-ec35-1ec9a589cdae"
      },
      "execution_count": 11,
      "outputs": [
        {
          "output_type": "stream",
          "name": "stdout",
          "text": [
            "../img/gifts/img1.jpg\n",
            "../img/gifts/img2.jpg\n",
            "../img/gifts/img3.jpg\n",
            "../img/gifts/img4.jpg\n",
            "../img/gifts/img6.jpg\n"
          ]
        }
      ]
    },
    {
      "cell_type": "markdown",
      "source": [
        ".attrsでは対象とそのタグを辞書形式で返すため、タグを確認することができる。"
      ],
      "metadata": {
        "id": "01kEQF1Bv38g"
      }
    },
    {
      "cell_type": "code",
      "source": [
        "image.attrs"
      ],
      "metadata": {
        "colab": {
          "base_uri": "https://localhost:8080/"
        },
        "id": "D0peo4-lu8Bn",
        "outputId": "f26b64e7-0334-48eb-e96e-69b7eebdb20f"
      },
      "execution_count": 14,
      "outputs": [
        {
          "output_type": "execute_result",
          "data": {
            "text/plain": [
              "{'src': '../img/gifts/img6.jpg'}"
            ]
          },
          "metadata": {},
          "execution_count": 14
        }
      ]
    },
    {
      "cell_type": "code",
      "source": [
        "csvFile = open(\"test.csv\", \"w+\", newline='')\n",
        "try:\n",
        "  writer = csv.writer(csvFile)\n",
        "  writer.writerow(('number', 'number plus 2', 'number times 2'))\n",
        "  for i in range(10):\n",
        "    writer.writerow((i, i+2, i*2))\n",
        "finally:\n",
        "  csvFile.close()"
      ],
      "metadata": {
        "id": "O9JA2dEavame"
      },
      "execution_count": 22,
      "outputs": []
    },
    {
      "cell_type": "code",
      "source": [],
      "metadata": {
        "id": "GMv9axCnCmRG"
      },
      "execution_count": null,
      "outputs": []
    }
  ]
}